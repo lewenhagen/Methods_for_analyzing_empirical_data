{
 "cells": [
  {
   "cell_type": "code",
   "execution_count": 329,
   "id": "09d53b19-ead2-4cb6-84c0-0316cc698934",
   "metadata": {},
   "outputs": [],
   "source": [
    "import pandas as pd\n",
    "import numpy as np\n",
    "import matplotlib.pyplot as plt\n",
    "from scipy import stats\n",
    "import seaborn as sns\n",
    "import statistics\n",
    "\n",
    "np.random.seed(42)\n",
    "\n",
    "# Create dataframes from csv\n",
    "table3 = pd.read_csv(\"./table3.csv\")\n",
    "table4 = pd.read_csv(\"./table4.csv\")"
   ]
  },
  {
   "cell_type": "markdown",
   "id": "05dfa422-af05-4e3d-9fec-562fd83578ac",
   "metadata": {},
   "source": [
    "# Assignment 9"
   ]
  },
  {
   "cell_type": "markdown",
   "id": "2ef0d4ab-372b-432c-999b-feebc92f4f21",
   "metadata": {},
   "source": [
    "## 9.1 \n",
    "Formulate interesting hypotheses, based on table3 and 4 and perform an analysis. The assumption for this assignment is that\n",
    "the analysis should be interesting and relevant from the perspective of publishing a paper at an\n",
    "international conference."
   ]
  },
  {
   "cell_type": "markdown",
   "id": "1ad3c66c-0586-452e-9762-7d7c6f11dc11",
   "metadata": {},
   "source": [
    "**Hypothesis 0 (H<sub>0</sub>)**: Students with at least some industrial experience in general programming produce the same number of errors per KLOC as students with less experience.  \n",
    "**Hypothesis 1 (H<sub>1</sub>)**: Students with at least some industrial experience in general progamming produces fewer errors per KLOC than students with less experience."
   ]
  },
  {
   "cell_type": "markdown",
   "id": "74d0bf48-c3cc-4c5e-8b13-b891ead3a23c",
   "metadata": {},
   "source": [
    "### Method explained"
   ]
  },
  {
   "cell_type": "markdown",
   "id": "eba3ffb8-58e1-44cb-a65c-5c5d38c46db1",
   "metadata": {},
   "source": [
    "The first step is to create separate datasets from Table3 and Table4 with the correct data."
   ]
  },
  {
   "cell_type": "code",
   "execution_count": 428,
   "id": "a23a27d3-f1eb-46cf-81e7-e4737462de0b",
   "metadata": {},
   "outputs": [],
   "source": [
    "# Get subjects with \"some industrial experience\" or more from Table 3\n",
    "subjects_with_exp = table3[table3[\"Prog.\"] > 2]\n",
    "\n",
    "# Get subjects with less than \"some industrial experience\" from Table 3\n",
    "subjects_with_less_exp = table3[table3[\"Prog.\"] < 3]\n",
    "\n",
    "# Get subjects from Table 4 where the subject value is in subject_with_exp\n",
    "subjects_with_exp_result = table4[table4[\"Subject\"].isin(subjects_with_exp[\"Subject\"])]\n",
    "\n",
    "# Get subjects from Table 4 where the subject value is in subject_with_less_exp\n",
    "subjects_with_less_exp_result = table4[table4[\"Subject\"].isin(subjects_with_less_exp[\"Subject\"])]"
   ]
  },
  {
   "cell_type": "markdown",
   "id": "82b714f2-4a18-477c-827b-c95f26cabfdc",
   "metadata": {},
   "source": [
    "With the two datasets **subjects_with_exp_result** and **subjects_with_less_exp_result**, I can compare the difference on the column with the data of interest, the column **Faults/ KLOC**. First, I use Shapiro-Wilks to find if the data is normal distributed or not."
   ]
  },
  {
   "cell_type": "code",
   "execution_count": 429,
   "id": "12af0438-9cf6-469c-ad08-c0ebd0d45ca9",
   "metadata": {},
   "outputs": [
    {
     "name": "stdout",
     "output_type": "stream",
     "text": [
      "Subjects with more experience: 3.762094430225854e-22\n",
      "Subjects with less experience: 1.1335907310244518e-26\n"
     ]
    }
   ],
   "source": [
    "print(f\"Subjects with more experience: {stats.shapiro(subjects_with_exp_result).pvalue}\")\n",
    "print(f\"Subjects with less experience: {stats.shapiro(subjects_with_less_exp_result).pvalue}\")"
   ]
  },
  {
   "cell_type": "markdown",
   "id": "0805a4df-53fa-4f91-a748-4e0402decc94",
   "metadata": {},
   "source": [
    "Shapiro-Wilks resulted in very low p-values for both datasets and both follows a normal distribution. The data is continuous, normal distributed and only two groups, so I chose to use T-test to measure the difference. The null hypothesis for the T test is that there is no significant difference between the measured mean values. The alpha is 0.05."
   ]
  },
  {
   "cell_type": "code",
   "execution_count": 432,
   "id": "c39520fd-5b93-49ac-adb9-ec9f83ecb725",
   "metadata": {},
   "outputs": [
    {
     "data": {
      "text/plain": [
       "0.5903350518612702"
      ]
     },
     "execution_count": 432,
     "metadata": {},
     "output_type": "execute_result"
    }
   ],
   "source": [
    "t_stat, p_value = stats.ttest_ind(subjects_with_exp_result[\"Faults/ KLOC\"], subjects_with_less_exp_result[\"Faults/ KLOC\"])\n",
    "p_value"
   ]
  },
  {
   "cell_type": "markdown",
   "id": "0c683cf2-837d-44e6-9329-5ef496bfb8a7",
   "metadata": {},
   "source": [
    "The result shows a p-value larger than 0.05 and H0 is not rejected and there are not a significant difference between the datasets. To further analyze the data I plotted boxplots to see visualize the spread of the data."
   ]
  },
  {
   "cell_type": "code",
   "execution_count": 434,
   "id": "54562c8f-34f4-4b3e-acb0-bf237d6cc36a",
   "metadata": {},
   "outputs": [
    {
     "data": {
      "image/png": "[encoded data removed]",
      "text/plain": [
       "<Figure size 640x480 with 1 Axes>"
      ]
     },
     "metadata": {},
     "output_type": "display_data"
    }
   ],
   "source": [
    "# Plot boxplot to visualize the mean and spread around the mean\n",
    "data = [subjects_with_exp_result[\"Faults/ KLOC\"], subjects_with_less_exp_result[\"Faults/ KLOC\"]]\n",
    "plt.boxplot(data, labels=[\"More experience\", \"Less experience\"])\n",
    "plt.title(\"Faults/ KLOC\")\n",
    "plt.ylabel('Nr of Faults/ KLOC')\n",
    "plt.show()"
   ]
  },
  {
   "cell_type": "markdown",
   "id": "6734e4fe-ee94-4b37-b728-c290f370e7cf",
   "metadata": {},
   "source": [
    "From the boxplot above it is clear that the median is slightly higher than in the more experienced group than in the less experienced group, meaning the more experiences group produces slightly more faults per KLOC, but not significantly more, since the p-value is higher than 0.05 in the previous test.\n",
    "\n",
    "All tests indicates that there are no significant difference between the subjects in regard to the produced number of faults per KLOC between subjects with less experience and subjects with more experience. "
   ]
  },
  {
   "cell_type": "markdown",
   "id": "881fccde-aebb-498c-b839-7d3a9fe0f538",
   "metadata": {},
   "source": [
    "## 9.2\n",
    "**Step 1**: Perform Bayesian hypothesis tests of the hypotheses formulated or inferred during step 1. Divide the data in each table into two sets by random sampling without replacement. Let one set from each table represent Empirical Data Batch 1 and let the other set from each table represent Empirical Data Batch 2.  \n",
    "\n",
    "To create the batches, I first shuffled the dataframes. Since the row count were not the same for the datasets (24 and 35), I undersampled 12 rows from the dataset with more than 12 rows. This means that I reduced the dataset to match the one with the least amount of rows."
   ]
  },
  {
   "cell_type": "code",
   "execution_count": 477,
   "id": "062bc722-e3eb-42ee-bf73-b02c6e719f94",
   "metadata": {},
   "outputs": [],
   "source": [
    "# First I split the dataframe in half by sampling 50% without replacement\n",
    "subjects_with_exp_1 = subjects_with_exp_result.sample(frac=0.5, replace=False, random_state=42)\n",
    "subjects_with_less_exp_1 = subjects_with_less_exp_result.sample(frac=0.5, replace=False, random_state=42)\n",
    "\n",
    "# Next step is to extract the second part by removing the first set from the original\n",
    "subjects_with_exp_2 = subjects_with_exp_result.drop(subjects_with_exp_1.index)\n",
    "subjects_with_less_exp_2 = subjects_with_less_exp_result.drop(subjects_with_less_exp_1.index)\n",
    "\n",
    "# Take first 12 rows from the datasets with \"less experience\" \n",
    "subjects_with_less_exp_1 = subjects_with_less_exp_result.iloc[0:12]\n",
    "subjects_with_less_exp_2 = subjects_with_less_exp_result.iloc[0:12]\n",
    "\n",
    "# Create the batches\n",
    "empirical_data_batch_1 = (subjects_with_exp_1, subjects_with_less_exp_1)\n",
    "empirical_data_batch_2 = (subjects_with_exp_2, subjects_with_less_exp_2)"
   ]
  },
  {
   "cell_type": "markdown",
   "id": "1a66350a-1002-4c30-ac8b-43571d4df277",
   "metadata": {},
   "source": [
    "**Step 2**: Assign (subjective) a priori probabilities that the formulated hypotheses (the null hypothesis and alternative hypothesis/hypotheses for each table) from experience or by using the lottery approach.\n",
    "\n",
    "Here, I chose to use the resulting p-value from the T-test conducted in 9.1. The result was a p-value of 0.59 (0.6)."
   ]
  },
  {
   "cell_type": "code",
   "execution_count": 478,
   "id": "aebad3b2-b098-4f0f-a64b-fa339901949d",
   "metadata": {},
   "outputs": [],
   "source": [
    "# Assign a priori probability to the null hypothesis and the alternative hypothesis\n",
    "PH0 = 0.6 # There is no difference\n",
    "PH1 = 0.4 # There is a difference"
   ]
  },
  {
   "cell_type": "markdown",
   "id": "a7bf5c43-62d1-4a82-8922-dc11fca6cfea",
   "metadata": {},
   "source": [
    "**Step 3**: Compute a posteriori probabilities by using Empirical Data Batch 1 and the a priori probabilities.  \n",
    "\n",
    "Since the data is continuous and normal distrubuted, I used likelihood calculation with a probability density function in scipy.stats.norm package. The result is lists of probabilities adding up to 1 for each probability in h0 and h1. To get the posterior probability, I took the mean value for each result. A lot of the functionality is taken from [1]."
   ]
  },
  {
   "cell_type": "code",
   "execution_count": 481,
   "id": "41d423b6-5d3c-4e50-bc14-684f2d3aeb59",
   "metadata": {},
   "outputs": [
    {
     "name": "stdout",
     "output_type": "stream",
     "text": [
      "Posterior probabilities for H0: 0.4737897585678576\n",
      "Posterior probabilities for H1: 0.5262102414321425\n"
     ]
    }
   ],
   "source": [
    "from scipy.stats import norm\n",
    "\n",
    "def compute_posterior_probs(data, p_h0, p_h1): \n",
    "    # Calculate likelihoods\n",
    "    likelihood_H0 = norm.pdf(data[0][\"Faults/ KLOC\"], loc=p_h0, scale=data[0][\"Faults/ KLOC\"].std())\n",
    "    likelihood_H1 = norm.pdf(data[1][\"Faults/ KLOC\"], loc=p_h1, scale=data[1][\"Faults/ KLOC\"].std())\n",
    "    \n",
    "    # Calculate marginal probability\n",
    "    P_E = likelihood_H0 * p_h0 + likelihood_H1 * p_h1\n",
    "    \n",
    "    # Calculate posterior probabilities\n",
    "    posterior_H0 = (likelihood_H0 * p_h0) / P_E\n",
    "    posterior_H1 = (likelihood_H1 * p_h1) / P_E\n",
    "\n",
    "    return (posterior_H0, posterior_H1)\n",
    "\n",
    "# Call the function using bath 1 and the priori probabilities\n",
    "h0, h1 = compute_posterior_probs(empirical_data_batch_1, PH0, PH1)\n",
    "h0_result = h0.mean()\n",
    "h1_result = h1.mean()\n",
    "print(\"Posterior probabilities for H0:\", h0_result)\n",
    "print(\"Posterior probabilities for H1:\", h1_result)"
   ]
  },
  {
   "cell_type": "markdown",
   "id": "caaecb3c-67bb-4538-ad0c-ff3ce65a43ba",
   "metadata": {},
   "source": [
    "The calculation results in the posterior probability ~0.47 for H0 and ~0.52 for H1. The probabilities are lower for H0 than the result from the T-test (0.59). "
   ]
  },
  {
   "cell_type": "markdown",
   "id": "384086db-0f33-42cf-8614-70dda00f70c3",
   "metadata": {},
   "source": [
    "**Step 5**: Use the resulting probabilities as a priori probabilities and, again, compute a posteriori probabilities but now by using Empirical Data Batch 2.  \n",
    "\n",
    "Here I reused the function *computePosteriorProbs* with the posterior probabilities as prior probablities."
   ]
  },
  {
   "cell_type": "code",
   "execution_count": 482,
   "id": "284b2f45-de2f-4b0b-8ba2-f3dedb3e3c3d",
   "metadata": {},
   "outputs": [
    {
     "name": "stdout",
     "output_type": "stream",
     "text": [
      "Posterior probabilities for H0: 0.26283639761110084\n",
      "Posterior probabilities for H1: 0.7371636023888991\n"
     ]
    }
   ],
   "source": [
    "h0, h1 = compute_posterior_probs(empirical_data_batch_2, h0_result, h1_result)\n",
    "\n",
    "print(\"Posterior probabilities for H0:\", h0.mean())\n",
    "print(\"Posterior probabilities for H1:\", h1.mean())"
   ]
  },
  {
   "cell_type": "markdown",
   "id": "9424b4bf-95f8-4ede-b942-b8f1b888873f",
   "metadata": {},
   "source": [
    "The result shows that the support for H1 is much stronger than before, 0.74 (74%), when adding more evidence to the calculation. This in turn indicates that there is a higher probability that there are difference in faults per KLOC between students with more experience and students with less experience. To futher see of that claim is correct, I checked the correlation between the subjects programming experience and the faults per KLOC."
   ]
  },
  {
   "cell_type": "code",
   "execution_count": 315,
   "id": "989e1729-fb21-4a19-a2c3-69419966279a",
   "metadata": {},
   "outputs": [
    {
     "data": {
      "text/html": [
       "<div>\n",
       "<style scoped>\n",
       "    .dataframe tbody tr th:only-of-type {\n",
       "        vertical-align: middle;\n",
       "    }\n",
       "\n",
       "    .dataframe tbody tr th {\n",
       "        vertical-align: top;\n",
       "    }\n",
       "\n",
       "    .dataframe thead th {\n",
       "        text-align: right;\n",
       "    }\n",
       "</style>\n",
       "<table border=\"1\" class=\"dataframe\">\n",
       "  <thead>\n",
       "    <tr style=\"text-align: right;\">\n",
       "      <th></th>\n",
       "      <th>Prog.</th>\n",
       "      <th>Faults/ KLOC</th>\n",
       "    </tr>\n",
       "  </thead>\n",
       "  <tbody>\n",
       "    <tr>\n",
       "      <th>Prog.</th>\n",
       "      <td>1.000000</td>\n",
       "      <td>0.103986</td>\n",
       "    </tr>\n",
       "    <tr>\n",
       "      <th>Faults/ KLOC</th>\n",
       "      <td>0.103986</td>\n",
       "      <td>1.000000</td>\n",
       "    </tr>\n",
       "  </tbody>\n",
       "</table>\n",
       "</div>"
      ],
      "text/plain": [
       "                 Prog.  Faults/ KLOC\n",
       "Prog.         1.000000      0.103986\n",
       "Faults/ KLOC  0.103986      1.000000"
      ]
     },
     "execution_count": 315,
     "metadata": {},
     "output_type": "execute_result"
    }
   ],
   "source": [
    "merged = table4.merge(table3[[\"Subject\", \"Prog.\"]], on=\"Subject\", how=\"left\")\n",
    "merged[[\"Prog.\",'Faults/ KLOC']].corr()"
   ]
  },
  {
   "cell_type": "markdown",
   "id": "ed4beac8-ce7d-420f-b1bb-5c65f80080d9",
   "metadata": {},
   "source": [
    "The correlation is positive, 0.10, and supports the claim that there are a difference and students with more experience produces ~10% more faults per KLOC than students with less prior experience. "
   ]
  },
  {
   "cell_type": "markdown",
   "id": "3aa407e0-a31a-46ec-802e-65d0af111688",
   "metadata": {},
   "source": [
    "## References\n",
    "\n",
    "[1] P. Martins de Bastos, (Jun 2022), “How to use Bayesian Inference for predictions in Python”. Accessed on: Nov. 26, 2024. [Online]. Available: https://towardsdatascience.com/how-to-use-bayesian-inference-for-predictions-in-python-4de5d0bc84f3\n",
    "\n",
    "\n"
   ]
  }
 ],
 "metadata": {
  "kernelspec": {
   "display_name": "Python 3 (ipykernel)",
   "language": "python",
   "name": "python3"
  },
  "language_info": {
   "codemirror_mode": {
    "name": "ipython",
    "version": 3
   },
   "file_extension": ".py",
   "mimetype": "text/x-python",
   "name": "python",
   "nbconvert_exporter": "python",
   "pygments_lexer": "ipython3",
   "version": "3.12.6"
  }
 },
 "nbformat": 4,
 "nbformat_minor": 5
}
